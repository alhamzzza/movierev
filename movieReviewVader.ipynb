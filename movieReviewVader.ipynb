{
 "cells": [
  {
   "cell_type": "code",
   "execution_count": 2,
   "id": "3a17674a",
   "metadata": {},
   "outputs": [],
   "source": [
    "import nltk\n",
    "from nltk.sentiment.vader import SentimentIntensityAnalyzer"
   ]
  },
  {
   "cell_type": "code",
   "execution_count": 3,
   "id": "baaf1b1a",
   "metadata": {},
   "outputs": [],
   "source": [
    "sid = SentimentIntensityAnalyzer()"
   ]
  },
  {
   "cell_type": "code",
   "execution_count": 30,
   "id": "42345566",
   "metadata": {},
   "outputs": [],
   "source": [
    "def review_rating(string):\n",
    "    scores = sid.polarity_scores(string)\n",
    "    if scores['compound'] == 0:\n",
    "        print ('Neutral' ,scores['compound'])\n",
    "    elif scores['compound'] > 0:\n",
    "        print (f\"Positive with accuracy of :{scores['compound']}\")\n",
    "    else:\n",
    "        print (f\"Negative with accuracy of :{abs(scores['compound'])}\")"
   ]
  },
  {
   "cell_type": "code",
   "execution_count": 26,
   "id": "26ae81b6",
   "metadata": {},
   "outputs": [
    {
     "data": {
      "application/vnd.jupyter.widget-view+json": {
       "model_id": "a1dcb16a39f04066aa30ec0fcb1a2b4f",
       "version_major": 2,
       "version_minor": 0
      },
      "text/plain": [
       "Text(value='', placeholder='enter a movie review!')"
      ]
     },
     "metadata": {},
     "output_type": "display_data"
    },
    {
     "data": {
      "application/vnd.jupyter.widget-view+json": {
       "model_id": "62bb8d9bce1e435abad7b45b4460b396",
       "version_major": 2,
       "version_minor": 0
      },
      "text/plain": [
       "Button(button_style='success', description='submit', icon='check', style=ButtonStyle(), tooltip='Click me')"
      ]
     },
     "metadata": {},
     "output_type": "display_data"
    },
    {
     "data": {
      "application/vnd.jupyter.widget-view+json": {
       "model_id": "1679822db55943fcabd4f59930ae9ffd",
       "version_major": 2,
       "version_minor": 0
      },
      "text/plain": [
       "Output()"
      ]
     },
     "metadata": {},
     "output_type": "display_data"
    }
   ],
   "source": [
    "from ipywidgets import interact, widgets\n",
    "from IPython.display import display\n",
    "\n",
    "text = widgets.Text(\n",
    "  \n",
    "    placeholder='enter a movie review!',\n",
    "    \n",
    "    disabled=False\n",
    ")\n",
    "output = widgets.Output() \n",
    "\n",
    "button = widgets.Button( description='submit',\n",
    "    disabled=False,\n",
    "    button_style='success', \n",
    "    tooltip='Click me',\n",
    "    icon='check' )\n",
    "\n",
    "\n",
    "@output.capture(clear_output=True,wait=True)\n",
    "def callback(wdgt):\n",
    "    # replace by something useful\n",
    "    review_rating(text.value)\n",
    "\n",
    "button.on_click(callback)\n",
    "display(text , button)\n",
    "output\n",
    "\n"
   ]
  },
  {
   "cell_type": "code",
   "execution_count": null,
   "id": "b3018dc5",
   "metadata": {},
   "outputs": [],
   "source": [
    "#!jupyter notebook --VoilaConfiguration.enable_nbextensions=True"
   ]
  },
  {
   "cell_type": "code",
   "execution_count": null,
   "id": "e885dab8",
   "metadata": {},
   "outputs": [],
   "source": []
  }
 ],
 "metadata": {
  "kernelspec": {
   "display_name": "Python 3 (ipykernel)",
   "language": "python",
   "name": "python3"
  },
  "language_info": {
   "codemirror_mode": {
    "name": "ipython",
    "version": 3
   },
   "file_extension": ".py",
   "mimetype": "text/x-python",
   "name": "python",
   "nbconvert_exporter": "python",
   "pygments_lexer": "ipython3",
   "version": "3.9.13"
  }
 },
 "nbformat": 4,
 "nbformat_minor": 5
}
